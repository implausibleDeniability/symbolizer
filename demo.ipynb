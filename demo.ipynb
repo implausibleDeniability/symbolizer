{
 "cells": [
  {
   "cell_type": "markdown",
   "metadata": {},
   "source": [
    "## Prepare data"
   ]
  },
  {
   "cell_type": "code",
   "execution_count": 1,
   "metadata": {},
   "outputs": [],
   "source": [
    "import numpy as np\n",
    "from scipy.stats import norm\n",
    "\n",
    "np.random.seed(42)\n",
    "\n",
    "x_train = np.linspace(-2, 2, 5).reshape(-1, 1)\n",
    "y_train = norm.pdf(x_train[:, 0])\n",
    "\n",
    "x_test = np.linspace(-5, 5, 1000).reshape(-1, 1)\n",
    "y_test = norm.pdf(x_test[:, 0])"
   ]
  },
  {
   "cell_type": "markdown",
   "metadata": {},
   "source": [
    "## Run the algorithm"
   ]
  },
  {
   "cell_type": "code",
   "execution_count": 2,
   "metadata": {},
   "outputs": [],
   "source": [
    "import logging\n",
    "logging.basicConfig(\n",
    "    filename='debug.log', \n",
    "    format='%(levelname)s:%(message)s', \n",
    "    encoding='utf-8', \n",
    "    level=logging.DEBUG,\n",
    "    filemode='w',\n",
    ")"
   ]
  },
  {
   "cell_type": "code",
   "execution_count": 3,
   "metadata": {},
   "outputs": [],
   "source": [
    "import warnings\n",
    "warnings.simplefilter('ignore')"
   ]
  },
  {
   "cell_type": "code",
   "execution_count": 4,
   "metadata": {},
   "outputs": [
    {
     "name": "stderr",
     "output_type": "stream",
     "text": [
      "0it [00:00, ?it/s]"
     ]
    },
    {
     "name": "stderr",
     "output_type": "stream",
     "text": [
      "10155it [00:10, 828.47it/s]"
     ]
    }
   ],
   "source": [
    "from symbolizer import Symbolizer\n",
    "symbolizer = Symbolizer(x_train, y_train, max_complexity=10, n_constants=2)\n",
    "expression = symbolizer.run()"
   ]
  },
  {
   "cell_type": "markdown",
   "metadata": {},
   "source": [
    "## Evaluate results"
   ]
  },
  {
   "cell_type": "code",
   "execution_count": null,
   "metadata": {},
   "outputs": [
    {
     "name": "stdout",
     "output_type": "stream",
     "text": [
      "Found expression: (0.398942) / (sqrt(exp(sqr(x0))))\n"
     ]
    }
   ],
   "source": [
    "from symbolizer.expression import expression2str\n",
    "print(f\"Found expression: {expression2str(expression)}\")"
   ]
  },
  {
   "cell_type": "code",
   "execution_count": null,
   "metadata": {},
   "outputs": [
    {
     "name": "stdout",
     "output_type": "stream",
     "text": [
      "Max absolute error is 1.0049799451655739e-07\n"
     ]
    }
   ],
   "source": [
    "from symbolizer.compute_expression import compute_expression\n",
    "y_pred = compute_expression(expression, x_test)\n",
    "max_absolute_error = np.max(np.abs(y_pred - y_test))\n",
    "print(f\"Max absolute error is {max_absolute_error}\")"
   ]
  },
  {
   "cell_type": "code",
   "execution_count": null,
   "metadata": {},
   "outputs": [
    {
     "data": {
      "image/png": "[encoded data removed]",
      "text/plain": [
       "<Figure size 432x288 with 1 Axes>"
      ]
     },
     "metadata": {
      "needs_background": "light"
     },
     "output_type": "display_data"
    }
   ],
   "source": [
    "from matplotlib import pyplot as plt\n",
    "plt.plot(x_test, y_test, 'b')\n",
    "plt.plot(x_test, y_pred, 'r--')\n",
    "plt.legend([\"Original gaussian\", \"Found dependency\"])\n",
    "plt.show()"
   ]
  }
 ],
 "metadata": {
  "kernelspec": {
   "display_name": "hard_ml",
   "language": "python",
   "name": "python3"
  },
  "language_info": {
   "codemirror_mode": {
    "name": "ipython",
    "version": 3
   },
   "file_extension": ".py",
   "mimetype": "text/x-python",
   "name": "python",
   "nbconvert_exporter": "python",
   "pygments_lexer": "ipython3",
   "version": "3.10.5"
  }
 },
 "nbformat": 4,
 "nbformat_minor": 2
}
